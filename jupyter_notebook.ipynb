{
 "cells": [
  {
   "cell_type": "code",
   "execution_count": 72,
   "metadata": {},
   "outputs": [],
   "source": [
    "import os, sys\n",
    "import numpy as np\n",
    "from tools import *\n",
    "from image_processing import *\n",
    "from optparse import OptionParser\n",
    "\n",
    "from model import *\n",
    "\n",
    "from keras import backend\n"
   ]
  },
  {
   "cell_type": "code",
   "execution_count": 73,
   "metadata": {
    "collapsed": true
   },
   "outputs": [],
   "source": [
    "limit = 11500\n",
    "backend.set_image_dim_ordering('th')\n",
    "IMG_SIZE = 224"
   ]
  },
  {
   "cell_type": "code",
   "execution_count": 163,
   "metadata": {},
   "outputs": [
    {
     "name": "stdout",
     "output_type": "stream",
     "text": [
      "Preprocessing....\n",
      "Preprocessing cats images:\n",
      "[============================================================] 100.0% ...\n",
      "\n",
      "Preprocessing dogs images:\n",
      "[============================================================] 100.0% ...\n",
      "\n"
     ]
    }
   ],
   "source": [
    "if os.path.exists('preprocessed_cats.pckl') and True:\n",
    "\n",
    "    print (\"Loading preprocessed images....\")\n",
    "    preprocessed_cats = restore('preprocessed_cats.pckl')\n",
    "    preprocessed_dogs = restore('preprocessed_dogs.pckl')\n",
    "    limit = len(preprocessed_cats)\n",
    "    \n",
    "    print (\"Loading done.\")\n",
    "else:\n",
    "    print (\"Preprocessing....\")\n",
    "    # cats : 0\n",
    "    print (\"Preprocessing cats images:\")\n",
    "    preprocessed_cats = preprocess_imgs('train/cats', IMG_SIZE, limit = limit)\n",
    "    store(preprocessed_cats, 'preprocessed_cats.pckl')\n",
    "\n",
    "    # dogs : 1\n",
    "    print (\"Preprocessing dogs images:\")\n",
    "    preprocessed_dogs = preprocess_imgs('train/dogs', IMG_SIZE, limit = limit)\n",
    "    store(preprocessed_dogs, 'preprocessed_dogs.pckl')\n",
    "    limit = len(preprocessed_cats)\n",
    "    "
   ]
  },
  {
   "cell_type": "code",
   "execution_count": 164,
   "metadata": {},
   "outputs": [
    {
     "name": "stdout",
     "output_type": "stream",
     "text": [
      "(2, 11500, 1)\n",
      "(2, 11500, 1)\n",
      "('Ycats', array([[ 1.],\n",
      "       [ 0.]]))\n",
      "('Ydogs', array([[ 0.],\n",
      "       [ 1.]]))\n",
      "(23000, 2)\n",
      "('Y = ', array([ 1.,  0.]))\n"
     ]
    }
   ],
   "source": [
    "# labelling the data\n",
    "# cats = [1 0] and dogs = [0 1]\n",
    "zeros = np.zeros((limit, 1))\n",
    "ones  = np.ones((limit, 1))\n",
    "Ycats = np.array((ones, zeros))\n",
    "print (Ycats.shape)\n",
    "Ydogs = np.array((zeros, ones))\n",
    "print (Ydogs.shape)\n",
    "\n",
    "print (\"Ycats\", Ycats[:,0])\n",
    "print (\"Ydogs\", Ydogs[:,0])\n",
    "\n",
    "Y = np.concatenate((Ycats, Ydogs), axis=1)\n",
    "Y = np.swapaxes(Y, 0, 1).squeeze()\n",
    "print (Y.shape)\n",
    "\n",
    "\n",
    "print (\"Y = \", Y[0,:])"
   ]
  },
  {
   "cell_type": "code",
   "execution_count": 165,
   "metadata": {},
   "outputs": [
    {
     "name": "stdout",
     "output_type": "stream",
     "text": [
      "(23000, 224, 224, 3)\n",
      "(23000, 3, 224, 224)\n",
      "(23000, 3, 224, 224)\n"
     ]
    }
   ],
   "source": [
    "\n",
    "\n",
    "X = np.concatenate((preprocessed_cats, preprocessed_dogs))\n",
    "\n",
    "print X.shape\n",
    "\n",
    "X = np.swapaxes(X, 1, 3)\n",
    "\n",
    "print X.shape\n",
    "print(\"(23000, 3, 224, 224)\")"
   ]
  },
  {
   "cell_type": "markdown",
   "metadata": {},
   "source": [
    "# Construct and test Vgg model"
   ]
  },
  {
   "cell_type": "code",
   "execution_count": 206,
   "metadata": {},
   "outputs": [],
   "source": [
    "model = create_model(IMG_SIZE)\n",
    "for layer in model.layers: layer.trainable=False"
   ]
  },
  {
   "cell_type": "code",
   "execution_count": 193,
   "metadata": {},
   "outputs": [
    {
     "name": "stdout",
     "output_type": "stream",
     "text": [
      "Predict a cat: \n",
      "(233, u'Bouvier_des_Flandres')\n",
      "Predict a dog: \n",
      "(265, u'toy_poodle')\n"
     ]
    }
   ],
   "source": [
    "classes = get_classes()\n",
    "\n",
    "\n",
    "def predict_cat_dog_at_index(model, input_array, index, limit = limit):\n",
    "    print (\"Predict a cat: \")\n",
    "    cat_prediction = model.predict(np.array([input_array[index,:,:]])).argmax(axis = 1)[0]\n",
    "    print ( cat_prediction, classes[cat_prediction] )\n",
    "\n",
    "    print (\"Predict a dog: \")\n",
    "    dog_prediction = model.predict(np.array([input_array[limit + index,:,:]])).argmax(axis = 1)[0]\n",
    "    print (dog_prediction, classes[dog_prediction])\n",
    "    \n",
    "predict_cat_dog_at_index(model, X, 569)"
   ]
  },
  {
   "cell_type": "markdown",
   "metadata": {},
   "source": [
    "# Sepate convolutional layers and dense layers\n"
   ]
  },
  {
   "cell_type": "code",
   "execution_count": 214,
   "metadata": {},
   "outputs": [
    {
     "name": "stdout",
     "output_type": "stream",
     "text": [
      "Total number of layers : 38, only the 6 last layers are dense layers\n",
      "Total number of convolutional layers : 32\n",
      "Total number of dense layers : 5\n"
     ]
    }
   ],
   "source": [
    "print (\"Total number of layers : {}, only the 6 last layers are dense layers\".format(len(model.layers)))\n",
    "\n",
    "def no_process(x):\n",
    "    # return x[:, ::-1]\n",
    "    return x\n",
    "\n",
    "nb_layers = len(model.layers)\n",
    "\n",
    "dense_model = Sequential()\n",
    "dense_model.add(Lambda(no_process, input_shape=(512, 7, 7), output_shape=(512, 7, 7) ))\n",
    "for layer in model.layers[-6:]:\n",
    "    if \"dropout\" not in layer.name:\n",
    "        dense_model.add(layer)\n",
    "convolutional_model = Sequential(model.layers[:nb_layers - 6])\n",
    "\n",
    "# convolutional_model = Sequential()\n",
    "# dense_model = Sequential()\n",
    "# dense_model.add( Lambda(no_process, input_shape=(512, 7, 7), output_shape=(512, 7, 7) ) )\n",
    "\n",
    "\n",
    "#for i,layer in enumerate(model.layers):\n",
    "#    if i < len(model.layers) - 6:\n",
    "#        convolutional_model.add(layer)\n",
    "#    else:\n",
    "#        dense_model.add(layer)\n",
    "\n",
    "print (\"Total number of convolutional layers : {}\".format(len(convolutional_model.layers)))\n",
    "print (\"Total number of dense layers : {}\".format(len(dense_model.layers)))"
   ]
  },
  {
   "cell_type": "code",
   "execution_count": 186,
   "metadata": {
    "collapsed": true
   },
   "outputs": [],
   "source": [
    "#convolutional_model.summary()"
   ]
  },
  {
   "cell_type": "code",
   "execution_count": 215,
   "metadata": {
    "scrolled": true
   },
   "outputs": [
    {
     "name": "stdout",
     "output_type": "stream",
     "text": [
      "_________________________________________________________________\n",
      "Layer (type)                 Output Shape              Param #   \n",
      "=================================================================\n",
      "lambda_9 (Lambda)            (None, 512, 7, 7)         0         \n",
      "_________________________________________________________________\n",
      "flatten_6 (Flatten)          (None, 25088)             0         \n",
      "_________________________________________________________________\n",
      "dense_17 (Dense)             (None, 4096)              102764544 \n",
      "_________________________________________________________________\n",
      "dense_18 (Dense)             (None, 4096)              16781312  \n",
      "_________________________________________________________________\n",
      "dense_19 (Dense)             (None, 1000)              4097000   \n",
      "=================================================================\n",
      "Total params: 123,642,856\n",
      "Trainable params: 0\n",
      "Non-trainable params: 123,642,856\n",
      "_________________________________________________________________\n"
     ]
    }
   ],
   "source": [
    "dense_model.summary()"
   ]
  },
  {
   "cell_type": "code",
   "execution_count": 188,
   "metadata": {},
   "outputs": [
    {
     "name": "stdout",
     "output_type": "stream",
     "text": [
      "(23000, 512, 7, 7)\n"
     ]
    }
   ],
   "source": [
    "# perdict and save the output of the convolutional layers\n",
    "\n",
    "if os.path.exists('conv_output.pckl') :\n",
    "    conv_output = restore('conv_output.pckl')\n",
    "else:\n",
    "    conv_output = convolutional_model.predict(X)\n",
    "    store(conv_output, 'conv_output.pckl')\n",
    "print (conv_output.shape)\n",
    "\n",
    "#resore the output if don't want to recompute the cell above\n"
   ]
  },
  {
   "cell_type": "code",
   "execution_count": 216,
   "metadata": {},
   "outputs": [
    {
     "name": "stdout",
     "output_type": "stream",
     "text": [
      "Predict a cat: \n",
      "(811, u'space_heater')\n",
      "Predict a dog: \n",
      "(195, u'Boston_bull')\n"
     ]
    }
   ],
   "source": [
    "# check that the output still makes sense\n",
    "predict_cat_dog_at_index(dense_model, conv_output, 13)"
   ]
  },
  {
   "cell_type": "code",
   "execution_count": 196,
   "metadata": {
    "collapsed": true
   },
   "outputs": [],
   "source": [
    "im = Image.fromarray(np.swapaxes(X[12,:,:], 0 , 2) )\n",
    "# im = Image.open(\"train/cats/cat.50.jpg\")\n",
    "im.show()"
   ]
  },
  {
   "cell_type": "markdown",
   "metadata": {},
   "source": [
    "# Finetune the dense model to detect cats and dogs"
   ]
  },
  {
   "cell_type": "code",
   "execution_count": null,
   "metadata": {},
   "outputs": [],
   "source": [
    "print (dense_model.layers[-1])\n",
    "dense_model.pop()\n",
    "\n",
    "for layer in dense_model.layers: layer.trainable=False"
   ]
  },
  {
   "cell_type": "code",
   "execution_count": 198,
   "metadata": {},
   "outputs": [
    {
     "name": "stdout",
     "output_type": "stream",
     "text": [
      "_________________________________________________________________\n",
      "Layer (type)                 Output Shape              Param #   \n",
      "=================================================================\n",
      "lambda_5 (Lambda)            (None, 512, 7, 7)         0         \n",
      "_________________________________________________________________\n",
      "flatten_4 (Flatten)          (None, 25088)             0         \n",
      "_________________________________________________________________\n",
      "dense_10 (Dense)             (None, 4096)              102764544 \n",
      "_________________________________________________________________\n",
      "dense_11 (Dense)             (None, 4096)              16781312  \n",
      "=================================================================\n",
      "Total params: 119,545,856\n",
      "Trainable params: 0\n",
      "Non-trainable params: 119,545,856\n",
      "_________________________________________________________________\n"
     ]
    }
   ],
   "source": [
    "#dense_model.pop()\n",
    "dense_model.summary()"
   ]
  },
  {
   "cell_type": "code",
   "execution_count": 217,
   "metadata": {},
   "outputs": [
    {
     "name": "stdout",
     "output_type": "stream",
     "text": [
      "_________________________________________________________________\n",
      "Layer (type)                 Output Shape              Param #   \n",
      "=================================================================\n",
      "lambda_9 (Lambda)            (None, 512, 7, 7)         0         \n",
      "_________________________________________________________________\n",
      "flatten_6 (Flatten)          (None, 25088)             0         \n",
      "_________________________________________________________________\n",
      "dense_17 (Dense)             (None, 4096)              102764544 \n",
      "_________________________________________________________________\n",
      "dense_18 (Dense)             (None, 4096)              16781312  \n",
      "_________________________________________________________________\n",
      "dense_19 (Dense)             (None, 1000)              4097000   \n",
      "_________________________________________________________________\n",
      "dense_20 (Dense)             (None, 2)                 2002      \n",
      "=================================================================\n",
      "Total params: 123,644,858\n",
      "Trainable params: 2,002\n",
      "Non-trainable params: 123,642,856\n",
      "_________________________________________________________________\n"
     ]
    }
   ],
   "source": [
    "dense_model.add(Dense(2, activation='softmax', input_shape=(1000,)))\n",
    "dense_model.summary()"
   ]
  },
  {
   "cell_type": "code",
   "execution_count": 222,
   "metadata": {
    "collapsed": true
   },
   "outputs": [],
   "source": [
    "dense_model.compile(\n",
    "        # loss='binary_crossentropy',\n",
    "       #optimizer=SGD(lr=10.0),\n",
    "          #optimizer=RMSprop(),\n",
    "       optimizer=Adam(lr=0.0001),\n",
    "          loss='categorical_crossentropy',\n",
    "          metrics=['accuracy'])"
   ]
  },
  {
   "cell_type": "code",
   "execution_count": 201,
   "metadata": {},
   "outputs": [
    {
     "name": "stdout",
     "output_type": "stream",
     "text": [
      "('Y = ', array([[ 1.,  0.],\n",
      "       [ 1.,  0.],\n",
      "       [ 1.,  0.],\n",
      "       [ 1.,  0.],\n",
      "       [ 1.,  0.],\n",
      "       [ 1.,  0.],\n",
      "       [ 1.,  0.],\n",
      "       [ 1.,  0.],\n",
      "       [ 1.,  0.],\n",
      "       [ 1.,  0.]]))\n",
      "('Y = ', array([[ 0.,  1.],\n",
      "       [ 0.,  1.],\n",
      "       [ 0.,  1.],\n",
      "       [ 0.,  1.],\n",
      "       [ 0.,  1.],\n",
      "       [ 0.,  1.],\n",
      "       [ 0.,  1.],\n",
      "       [ 0.,  1.],\n",
      "       [ 0.,  1.],\n",
      "       [ 0.,  1.]]))\n"
     ]
    }
   ],
   "source": [
    "dense_model.load_weights(\"dense_model.h5\")\n",
    "\n",
    "print (\"Y = \", Y[0:10,:])\n",
    "\n",
    "print (\"Y = \", Y[limit:limit+10,:])"
   ]
  },
  {
   "cell_type": "code",
   "execution_count": 223,
   "metadata": {},
   "outputs": [
    {
     "name": "stdout",
     "output_type": "stream",
     "text": [
      "Epoch 1/5\n",
      "23000/23000 [==============================] - 6s - loss: 0.6851 - acc: 0.7233     \n",
      "Epoch 2/5\n",
      "23000/23000 [==============================] - 6s - loss: 0.6752 - acc: 0.8472     \n",
      "Epoch 3/5\n",
      "23000/23000 [==============================] - 6s - loss: 0.6655 - acc: 0.8714     \n",
      "Epoch 4/5\n",
      "23000/23000 [==============================] - 6s - loss: 0.6560 - acc: 0.8796     \n",
      "Epoch 5/5\n",
      "23000/23000 [==============================] - 6s - loss: 0.6468 - acc: 0.8817     \n"
     ]
    },
    {
     "data": {
      "text/plain": [
       "[array([[ 0.03199724,  0.0544106 ],\n",
       "        [ 0.07699834, -0.05127247],\n",
       "        [-0.1129072 ,  0.04124811],\n",
       "        ..., \n",
       "        [-0.01257063,  0.05676379],\n",
       "        [ 0.07193685, -0.15178901],\n",
       "        [ 0.14304245, -0.13594384]], dtype=float32),\n",
       " array([-0.0032438,  0.0032438], dtype=float32)]"
      ]
     },
     "execution_count": 223,
     "metadata": {},
     "output_type": "execute_result"
    }
   ],
   "source": [
    "dense_model.fit(conv_output,Y, epochs=5, batch_size=100)\n",
    "dense_model.save_weights(\"dense_model.h5\")\n",
    "dense_model.layers[-1].get_weights()"
   ]
  },
  {
   "cell_type": "code",
   "execution_count": 224,
   "metadata": {},
   "outputs": [
    {
     "name": "stdout",
     "output_type": "stream",
     "text": [
      "Predict a cat: \n",
      "(0, 'cat', array([[ 0.53970671,  0.46029332]], dtype=float32))\n",
      "[[ 0.53970671  0.46029332]]\n",
      "('Y = ', array([ 1.,  0.]))\n",
      "Predict a dog: \n",
      "(1, 'dog', array([[ 0.48492044,  0.51507962]], dtype=float32))\n",
      "[[ 0.48492044  0.51507962]]\n",
      "('Y = ', array([ 0.,  1.]))\n"
     ]
    }
   ],
   "source": [
    "cat_dog_class = {0: 'cat', 1: 'dog'}\n",
    "\n",
    "print (\"Predict a cat: \")\n",
    "cat_number = 50\n",
    "cat_prediction = dense_model.predict(conv_output[cat_number,:,:].reshape(1,512, 7, 7))\n",
    "cat_prediction_decision = cat_prediction.argmax(axis = 1)[0]\n",
    "print ( cat_prediction_decision, cat_dog_class[cat_prediction_decision], cat_prediction )\n",
    "print (cat_prediction)\n",
    "print (\"Y = \", Y[cat_number])\n",
    "\n",
    "print (\"Predict a dog: \")\n",
    "dog_number = 1701\n",
    "dog_prediction = dense_model.predict(conv_output[limit+dog_number,:,:].reshape(1,512, 7, 7))\n",
    "dog_prediction_decision = dog_prediction.argmax(axis = 1)[0]\n",
    "print (dog_prediction_decision, cat_dog_class[dog_prediction_decision], dog_prediction)\n",
    "print (dog_prediction)\n",
    "print (\"Y = \", Y[limit+dog_number])"
   ]
  },
  {
   "cell_type": "markdown",
   "metadata": {},
   "source": [
    "# Finetune the original model to detect cats and dogs"
   ]
  },
  {
   "cell_type": "code",
   "execution_count": 204,
   "metadata": {},
   "outputs": [
    {
     "name": "stdout",
     "output_type": "stream",
     "text": [
      "Predict a cat: \n",
      "(811, u'space_heater')\n",
      "Predict a dog: \n",
      "(195, u'Boston_bull')\n"
     ]
    }
   ],
   "source": [
    "model = create_model(IMG_SIZE)\n",
    "for layer in model.layers: layer.trainable=False\n",
    "\n",
    "predict_cat_dog_at_index(model, X, 13)"
   ]
  },
  {
   "cell_type": "code",
   "execution_count": 209,
   "metadata": {},
   "outputs": [
    {
     "name": "stdout",
     "output_type": "stream",
     "text": [
      "_________________________________________________________________\n",
      "Layer (type)                 Output Shape              Param #   \n",
      "=================================================================\n",
      "lambda_7 (Lambda)            (None, 3, 224, 224)       0         \n",
      "_________________________________________________________________\n",
      "zero_padding2d_66 (ZeroPaddi (None, 3, 226, 226)       0         \n",
      "_________________________________________________________________\n",
      "conv2d_66 (Conv2D)           (None, 64, 224, 224)      1792      \n",
      "_________________________________________________________________\n",
      "zero_padding2d_67 (ZeroPaddi (None, 64, 226, 226)      0         \n",
      "_________________________________________________________________\n",
      "conv2d_67 (Conv2D)           (None, 64, 224, 224)      36928     \n",
      "_________________________________________________________________\n",
      "max_pooling2d_26 (MaxPooling (None, 64, 112, 112)      0         \n",
      "_________________________________________________________________\n",
      "zero_padding2d_68 (ZeroPaddi (None, 64, 114, 114)      0         \n",
      "_________________________________________________________________\n",
      "conv2d_68 (Conv2D)           (None, 128, 112, 112)     73856     \n",
      "_________________________________________________________________\n",
      "zero_padding2d_69 (ZeroPaddi (None, 128, 114, 114)     0         \n",
      "_________________________________________________________________\n",
      "conv2d_69 (Conv2D)           (None, 128, 112, 112)     147584    \n",
      "_________________________________________________________________\n",
      "max_pooling2d_27 (MaxPooling (None, 128, 56, 56)       0         \n",
      "_________________________________________________________________\n",
      "zero_padding2d_70 (ZeroPaddi (None, 128, 58, 58)       0         \n",
      "_________________________________________________________________\n",
      "conv2d_70 (Conv2D)           (None, 256, 56, 56)       295168    \n",
      "_________________________________________________________________\n",
      "zero_padding2d_71 (ZeroPaddi (None, 256, 58, 58)       0         \n",
      "_________________________________________________________________\n",
      "conv2d_71 (Conv2D)           (None, 256, 56, 56)       590080    \n",
      "_________________________________________________________________\n",
      "zero_padding2d_72 (ZeroPaddi (None, 256, 58, 58)       0         \n",
      "_________________________________________________________________\n",
      "conv2d_72 (Conv2D)           (None, 256, 56, 56)       590080    \n",
      "_________________________________________________________________\n",
      "max_pooling2d_28 (MaxPooling (None, 256, 28, 28)       0         \n",
      "_________________________________________________________________\n",
      "zero_padding2d_73 (ZeroPaddi (None, 256, 30, 30)       0         \n",
      "_________________________________________________________________\n",
      "conv2d_73 (Conv2D)           (None, 512, 28, 28)       1180160   \n",
      "_________________________________________________________________\n",
      "zero_padding2d_74 (ZeroPaddi (None, 512, 30, 30)       0         \n",
      "_________________________________________________________________\n",
      "conv2d_74 (Conv2D)           (None, 512, 28, 28)       2359808   \n",
      "_________________________________________________________________\n",
      "zero_padding2d_75 (ZeroPaddi (None, 512, 30, 30)       0         \n",
      "_________________________________________________________________\n",
      "conv2d_75 (Conv2D)           (None, 512, 28, 28)       2359808   \n",
      "_________________________________________________________________\n",
      "max_pooling2d_29 (MaxPooling (None, 512, 14, 14)       0         \n",
      "_________________________________________________________________\n",
      "zero_padding2d_76 (ZeroPaddi (None, 512, 16, 16)       0         \n",
      "_________________________________________________________________\n",
      "conv2d_76 (Conv2D)           (None, 512, 14, 14)       2359808   \n",
      "_________________________________________________________________\n",
      "zero_padding2d_77 (ZeroPaddi (None, 512, 16, 16)       0         \n",
      "_________________________________________________________________\n",
      "conv2d_77 (Conv2D)           (None, 512, 14, 14)       2359808   \n",
      "_________________________________________________________________\n",
      "zero_padding2d_78 (ZeroPaddi (None, 512, 16, 16)       0         \n",
      "_________________________________________________________________\n",
      "conv2d_78 (Conv2D)           (None, 512, 14, 14)       2359808   \n",
      "_________________________________________________________________\n",
      "max_pooling2d_30 (MaxPooling (None, 512, 7, 7)         0         \n",
      "_________________________________________________________________\n",
      "flatten_6 (Flatten)          (None, 25088)             0         \n",
      "_________________________________________________________________\n",
      "dense_17 (Dense)             (None, 4096)              102764544 \n",
      "_________________________________________________________________\n",
      "dropout_11 (Dropout)         (None, 4096)              0         \n",
      "_________________________________________________________________\n",
      "dense_18 (Dense)             (None, 4096)              16781312  \n",
      "_________________________________________________________________\n",
      "dropout_12 (Dropout)         (None, 4096)              0         \n",
      "_________________________________________________________________\n",
      "dense_19 (Dense)             (None, 1000)              4097000   \n",
      "=================================================================\n",
      "Total params: 138,357,544\n",
      "Trainable params: 0\n",
      "Non-trainable params: 138,357,544\n",
      "_________________________________________________________________\n"
     ]
    }
   ],
   "source": [
    "#model.pop()\n",
    "model.summary()"
   ]
  },
  {
   "cell_type": "code",
   "execution_count": 29,
   "metadata": {},
   "outputs": [
    {
     "name": "stdout",
     "output_type": "stream",
     "text": [
      "_________________________________________________________________\n",
      "Layer (type)                 Output Shape              Param #   \n",
      "=================================================================\n",
      "lambda_5 (Lambda)            (None, 3, 224, 224)       0         \n",
      "_________________________________________________________________\n",
      "zero_padding2d_40 (ZeroPaddi (None, 3, 226, 226)       0         \n",
      "_________________________________________________________________\n",
      "conv2d_40 (Conv2D)           (None, 64, 224, 224)      1792      \n",
      "_________________________________________________________________\n",
      "zero_padding2d_41 (ZeroPaddi (None, 64, 226, 226)      0         \n",
      "_________________________________________________________________\n",
      "conv2d_41 (Conv2D)           (None, 64, 224, 224)      36928     \n",
      "_________________________________________________________________\n",
      "max_pooling2d_16 (MaxPooling (None, 64, 112, 112)      0         \n",
      "_________________________________________________________________\n",
      "zero_padding2d_42 (ZeroPaddi (None, 64, 114, 114)      0         \n",
      "_________________________________________________________________\n",
      "conv2d_42 (Conv2D)           (None, 128, 112, 112)     73856     \n",
      "_________________________________________________________________\n",
      "zero_padding2d_43 (ZeroPaddi (None, 128, 114, 114)     0         \n",
      "_________________________________________________________________\n",
      "conv2d_43 (Conv2D)           (None, 128, 112, 112)     147584    \n",
      "_________________________________________________________________\n",
      "max_pooling2d_17 (MaxPooling (None, 128, 56, 56)       0         \n",
      "_________________________________________________________________\n",
      "zero_padding2d_44 (ZeroPaddi (None, 128, 58, 58)       0         \n",
      "_________________________________________________________________\n",
      "conv2d_44 (Conv2D)           (None, 256, 56, 56)       295168    \n",
      "_________________________________________________________________\n",
      "zero_padding2d_45 (ZeroPaddi (None, 256, 58, 58)       0         \n",
      "_________________________________________________________________\n",
      "conv2d_45 (Conv2D)           (None, 256, 56, 56)       590080    \n",
      "_________________________________________________________________\n",
      "zero_padding2d_46 (ZeroPaddi (None, 256, 58, 58)       0         \n",
      "_________________________________________________________________\n",
      "conv2d_46 (Conv2D)           (None, 256, 56, 56)       590080    \n",
      "_________________________________________________________________\n",
      "max_pooling2d_18 (MaxPooling (None, 256, 28, 28)       0         \n",
      "_________________________________________________________________\n",
      "zero_padding2d_47 (ZeroPaddi (None, 256, 30, 30)       0         \n",
      "_________________________________________________________________\n",
      "conv2d_47 (Conv2D)           (None, 512, 28, 28)       1180160   \n",
      "_________________________________________________________________\n",
      "zero_padding2d_48 (ZeroPaddi (None, 512, 30, 30)       0         \n",
      "_________________________________________________________________\n",
      "conv2d_48 (Conv2D)           (None, 512, 28, 28)       2359808   \n",
      "_________________________________________________________________\n",
      "zero_padding2d_49 (ZeroPaddi (None, 512, 30, 30)       0         \n",
      "_________________________________________________________________\n",
      "conv2d_49 (Conv2D)           (None, 512, 28, 28)       2359808   \n",
      "_________________________________________________________________\n",
      "max_pooling2d_19 (MaxPooling (None, 512, 14, 14)       0         \n",
      "_________________________________________________________________\n",
      "zero_padding2d_50 (ZeroPaddi (None, 512, 16, 16)       0         \n",
      "_________________________________________________________________\n",
      "conv2d_50 (Conv2D)           (None, 512, 14, 14)       2359808   \n",
      "_________________________________________________________________\n",
      "zero_padding2d_51 (ZeroPaddi (None, 512, 16, 16)       0         \n",
      "_________________________________________________________________\n",
      "conv2d_51 (Conv2D)           (None, 512, 14, 14)       2359808   \n",
      "_________________________________________________________________\n",
      "zero_padding2d_52 (ZeroPaddi (None, 512, 16, 16)       0         \n",
      "_________________________________________________________________\n",
      "conv2d_52 (Conv2D)           (None, 512, 14, 14)       2359808   \n",
      "_________________________________________________________________\n",
      "max_pooling2d_20 (MaxPooling (None, 512, 7, 7)         0         \n",
      "_________________________________________________________________\n",
      "flatten_4 (Flatten)          (None, 25088)             0         \n",
      "_________________________________________________________________\n",
      "dense_11 (Dense)             (None, 4096)              102764544 \n",
      "_________________________________________________________________\n",
      "dropout_7 (Dropout)          (None, 4096)              0         \n",
      "_________________________________________________________________\n",
      "dense_12 (Dense)             (None, 4096)              16781312  \n",
      "_________________________________________________________________\n",
      "dropout_8 (Dropout)          (None, 4096)              0         \n",
      "_________________________________________________________________\n",
      "dense_13 (Dense)             (None, 1000)              4097000   \n",
      "_________________________________________________________________\n",
      "dense_14 (Dense)             (None, 2)                 2002      \n",
      "=================================================================\n",
      "Total params: 138,359,546\n",
      "Trainable params: 2,002\n",
      "Non-trainable params: 138,357,544\n",
      "_________________________________________________________________\n"
     ]
    }
   ],
   "source": [
    "model.add(Dense(2, activation='sigmoid', input_shape=(1000,)))\n",
    "model.summary()"
   ]
  },
  {
   "cell_type": "code",
   "execution_count": 30,
   "metadata": {
    "collapsed": true
   },
   "outputs": [],
   "source": [
    "model.compile(\n",
    "        # loss='binary_crossentropy',\n",
    "          # optimizer=SGD(lr=10.0),\n",
    "          #optimizer=RMSprop(),\n",
    "         optimizer=Adam(lr=0.001),\n",
    "          loss='categorical_crossentropy',\n",
    "          metrics=['accuracy'])"
   ]
  },
  {
   "cell_type": "code",
   "execution_count": 31,
   "metadata": {
    "collapsed": true
   },
   "outputs": [],
   "source": [
    "model.load_weights(\"model.h5\")"
   ]
  },
  {
   "cell_type": "code",
   "execution_count": 32,
   "metadata": {},
   "outputs": [
    {
     "name": "stdout",
     "output_type": "stream",
     "text": [
      "Epoch 1/1\n",
      "23000/23000 [==============================] - 415s - loss: 0.6933 - acc: 0.4925   \n"
     ]
    }
   ],
   "source": [
    "model.fit(X,Y, epochs=1, batch_size=50)\n",
    "model.save_weights(\"model.h5\")"
   ]
  },
  {
   "cell_type": "code",
   "execution_count": 27,
   "metadata": {},
   "outputs": [
    {
     "name": "stdout",
     "output_type": "stream",
     "text": [
      "Predict a cat: \n",
      "[[  4.00468116e-06   1.03098873e-05   9.88933061e-06   7.62894342e-06\n",
      "    6.57140026e-06   4.05430437e-05   5.65189112e-06   8.02692193e-06\n",
      "    3.23290988e-05   5.09283473e-06   1.61529370e-05   1.94507793e-05\n",
      "    1.30366185e-04   4.56952403e-05   3.93438677e-06   1.86773450e-05\n",
      "    7.71370105e-05   1.37451334e-05   2.94764163e-06   2.85266015e-05\n",
      "    2.20317106e-05   1.01240755e-06   1.03186665e-06   1.75560751e-06\n",
      "    2.02863157e-06   2.81494567e-06   2.18191435e-05   7.17105650e-06\n",
      "    3.18065645e-06   1.19487180e-04   1.71009415e-05   3.22048072e-05\n",
      "    4.03311751e-05   1.08176810e-05   2.94680945e-06   5.36827683e-05\n",
      "    2.40656838e-04   2.98556188e-05   3.85718704e-05   1.56009664e-05\n",
      "    1.27088624e-05   8.13602219e-06   4.53189023e-06   2.49456607e-05\n",
      "    7.14476555e-05   6.74303737e-06   5.60275694e-05   6.80388030e-06\n",
      "    9.59397084e-07   7.59038244e-07   1.04444680e-05   2.93254416e-05\n",
      "    1.59177125e-05   8.32210299e-06   2.53987382e-05   6.36722143e-06\n",
      "    1.51755603e-06   6.21494519e-06   1.16294987e-05   4.78555376e-06\n",
      "    3.48557915e-05   6.67557197e-06   3.34870151e-06   9.44919975e-06\n",
      "    1.30761455e-05   1.44042610e-06   1.68309271e-04   5.29798854e-06\n",
      "    1.63256173e-05   4.48914216e-04   9.40906648e-06   5.52211059e-05\n",
      "    5.06717743e-06   1.65713951e-04   2.40165391e-05   1.33925016e-04\n",
      "    1.12409951e-04   1.74028144e-04   1.57761667e-03   6.20828432e-05\n",
      "    1.79919050e-06   4.89404954e-07   1.47731489e-05   1.62808374e-05\n",
      "    2.42523947e-06   1.36835060e-05   1.07997867e-05   5.64472684e-05\n",
      "    3.16359751e-06   1.41554819e-05   1.61750802e-06   5.78834147e-07\n",
      "    3.84787313e-07   1.46372497e-06   2.24144787e-05   9.43038742e-07\n",
      "    1.71164652e-06   2.06156096e-06   1.56115550e-06   2.06148798e-06\n",
      "    3.01487626e-06   7.05735886e-07   2.59539556e-05   5.17749984e-04\n",
      "    8.07612651e-06   4.86599383e-05   1.88367080e-03   4.33362220e-05\n",
      "    1.02180468e-06   1.48465995e-06   1.84343771e-05   8.89039220e-05\n",
      "    2.21013604e-03   4.86478035e-04   1.76984613e-04   7.50298170e-07\n",
      "    1.42107892e-05   3.08478891e-04   2.05271190e-05   5.24737743e-06\n",
      "    1.92376883e-05   2.02192746e-06   3.28398824e-06   1.77424351e-06\n",
      "    7.05625134e-05   6.32022042e-04   1.22378842e-04   1.19948311e-06\n",
      "    7.03152068e-07   6.77910350e-07   4.07030427e-07   2.79277685e-07\n",
      "    2.84741031e-06   8.94833079e-07   3.57274871e-07   3.51950234e-07\n",
      "    5.00949682e-07   1.53980345e-05   5.97777557e-07   3.52845518e-07\n",
      "    4.11234032e-06   6.02465661e-06   2.40931263e-06   4.16408398e-07\n",
      "    6.74586374e-07   2.75299112e-06   1.07949415e-06   2.33285178e-07\n",
      "    7.14783823e-07   2.73713431e-06   5.73498255e-05   8.36835316e-05\n",
      "    6.11224948e-07   1.23639747e-05   4.30546606e-05   3.71203241e-05\n",
      "    5.38648192e-06   5.32483500e-06   4.07406151e-06   3.42953768e-07\n",
      "    1.77277866e-06   9.49144032e-06   1.01699641e-06   1.05984482e-05\n",
      "    2.61285072e-06   4.62949401e-07   2.16964008e-06   6.00819817e-07\n",
      "    5.29292311e-06   1.06709365e-06   1.19112919e-05   1.99627320e-05\n",
      "    1.76755475e-05   1.84067881e-06   5.12336192e-05   2.39374754e-06\n",
      "    5.93428240e-07   5.66428525e-06   7.56297186e-06   3.47287914e-06\n",
      "    5.39716712e-06   1.16687479e-05   1.16685815e-05   8.75928163e-06\n",
      "    4.80534618e-06   1.43823767e-04   2.26187243e-04   8.23033697e-05\n",
      "    1.43878069e-05   8.77640559e-06   1.09985722e-05   1.11152258e-05\n",
      "    2.03771691e-04   1.12311582e-05   5.20659160e-06   4.92998442e-05\n",
      "    1.52186272e-04   6.58973113e-06   1.16971041e-05   4.40955191e-05\n",
      "    1.65952429e-06   1.18634125e-04   2.85207807e-05   7.63423741e-05\n",
      "    2.71633271e-05   5.44403065e-07   5.69338113e-07   4.25834060e-06\n",
      "    3.38441600e-06   7.53738868e-06   2.07382209e-06   1.50438984e-06\n",
      "    2.27071860e-06   7.65004529e-07   6.96989105e-07   1.81526730e-06\n",
      "    3.65393703e-06   6.85048508e-06   7.88083071e-06   1.27385538e-05\n",
      "    1.45836759e-06   1.88547244e-06   2.07956737e-06   5.98508586e-06\n",
      "    4.47879393e-06   9.35514981e-06   1.96407236e-05   1.36007168e-06\n",
      "    1.90492347e-06   1.01038058e-05   3.16410137e-06   7.29545491e-06\n",
      "    1.04661387e-06   8.34229722e-05   1.56638407e-06   4.72467855e-06\n",
      "    2.93082871e-06   6.04760226e-06   5.53058953e-07   2.62175672e-06\n",
      "    2.01366265e-06   5.66916754e-07   5.50219465e-06   1.13415153e-05\n",
      "    4.62962646e-07   8.79776635e-05   3.36468838e-06   6.32051569e-06\n",
      "    1.45237373e-05   2.17740981e-05   1.68074530e-05   4.90806497e-06\n",
      "    4.73660248e-06   7.92573064e-06   1.37186813e-04   1.26669886e-06\n",
      "    5.08874393e-07   4.34503772e-06   9.28191275e-06   3.23532149e-05\n",
      "    1.00127763e-05   9.13561416e-06   4.94159431e-05   6.97496125e-06\n",
      "    3.79667881e-06   8.90569572e-05   1.11731588e-05   1.98921612e-06\n",
      "    8.98159778e-05   1.04499477e-05   4.03443892e-06   7.77337675e-07\n",
      "    2.86245040e-06   3.13191254e-06   9.78785124e-07   6.28981013e-07\n",
      "    1.05406698e-05   6.27266309e-06   6.30848353e-06   5.02379735e-05\n",
      "    1.93111573e-05   2.83570513e-02   1.13572534e-02   2.28788122e-03\n",
      "    9.17070173e-03   9.71075706e-03   2.58870277e-04   1.48497289e-03\n",
      "    6.12085423e-05   3.89290799e-05   6.05033119e-06   2.92752011e-05\n",
      "    4.52517706e-05   3.41148734e-06   3.27470275e-06   1.90724859e-06\n",
      "    1.58649727e-05   1.76302001e-06   8.44117767e-06   1.62936831e-05\n",
      "    1.46075615e-06   1.11190220e-05   1.32112182e-05   1.38359064e-05\n",
      "    3.38767404e-06   6.17258183e-06   8.81767410e-05   1.07170818e-05\n",
      "    1.35747745e-04   1.93075146e-04   2.26982665e-04   5.95794427e-06\n",
      "    1.19197348e-05   1.94225122e-05   2.71162076e-04   4.78667862e-05\n",
      "    1.82120901e-04   4.06830759e-06   8.93259130e-05   5.63638096e-05\n",
      "    3.19468454e-05   3.04920491e-06   9.65591516e-06   2.96396109e-07\n",
      "    3.15978177e-05   5.93745608e-06   1.37334600e-05   4.41613156e-06\n",
      "    4.60226765e-05   6.48793230e-06   1.16126474e-04   7.31220352e-05\n",
      "    4.66034762e-05   6.64202198e-02   4.71036037e-05   2.35905475e-03\n",
      "    9.79156266e-06   1.70724248e-04   1.53738161e-04   6.38258769e-07\n",
      "    1.72769899e-06   2.60495508e-05   6.18820741e-06   1.40216471e-05\n",
      "    1.09125649e-05   2.78398193e-06   1.05826462e-06   1.46518175e-06\n",
      "    5.04127411e-06   7.92471656e-06   4.85767532e-06   4.43582422e-07\n",
      "    1.89738358e-07   6.89083777e-07   1.36306526e-05   1.69012014e-06\n",
      "    2.88716052e-03   1.62017287e-03   1.04125694e-03   2.32099975e-03\n",
      "    3.01009888e-04   8.64907925e-05   3.29857576e-05   3.91550508e-04\n",
      "    2.21174978e-05   4.84834982e-06   5.65528262e-06   5.79280095e-05\n",
      "    1.63938796e-06   3.77326705e-06   1.19480965e-05   7.39108100e-06\n",
      "    2.24669861e-06   1.30429122e-04   1.76454323e-05   1.35518144e-06\n",
      "    4.15875593e-06   2.65896815e-04   2.76916253e-05   5.47211584e-06\n",
      "    3.93785740e-05   3.73337116e-06   3.98687152e-05   3.81950076e-06\n",
      "    1.17724421e-05   4.68048620e-06   1.40413636e-06   3.58193438e-06\n",
      "    3.95527786e-06   1.20216919e-05   9.26419943e-06   5.48456592e-06\n",
      "    8.46002786e-06   1.38524820e-06   1.97908321e-06   1.89192906e-05\n",
      "    6.76021273e-07   7.38869567e-05   4.28572457e-05   3.33482853e-06\n",
      "    2.50801349e-06   8.09648463e-06   3.09339557e-05   5.47993068e-07\n",
      "    7.54561256e-07   1.22266092e-05   3.39829421e-04   7.73396494e-07\n",
      "    2.21752498e-06   1.19314675e-04   2.04584649e-05   1.97189675e-05\n",
      "    9.71680623e-04   7.57843691e-06   1.67479484e-05   4.34310532e-05\n",
      "    1.83105731e-05   4.62606040e-05   1.06645493e-04   3.20061139e-04\n",
      "    6.68925859e-05   1.89783641e-05   6.87855718e-05   7.18958609e-06\n",
      "    3.32243762e-05   4.73344357e-07   1.18526630e-03   2.84764916e-04\n",
      "    1.76779067e-05   4.56341404e-05   1.58800867e-06   6.80394296e-04\n",
      "    4.18202471e-05   1.45599333e-05   2.31447583e-03   1.30165502e-01\n",
      "    1.82051409e-07   1.16539577e-05   4.50298772e-04   6.09923591e-05\n",
      "    1.35391310e-04   2.07635516e-04   3.27822308e-05   3.52382660e-04\n",
      "    2.77223791e-07   1.84758446e-05   1.99765680e-04   5.40096007e-05\n",
      "    7.78577174e-04   1.17386520e-07   5.00641409e-06   4.67517311e-05\n",
      "    4.17080679e-04   4.25131293e-04   4.32745219e-05   9.48874804e-04\n",
      "    9.89100008e-05   2.74122285e-04   3.11481926e-05   1.22272747e-03\n",
      "    3.50307403e-07   4.05037630e-04   2.88450479e-04   3.86737734e-02\n",
      "    1.57662624e-04   8.02905106e-06   1.03496777e-05   5.90874379e-06\n",
      "    3.65756978e-06   2.07613944e-03   2.52503082e-02   1.44793858e-05\n",
      "    3.81591946e-07   2.50660791e-03   1.64377561e-05   5.27670200e-05\n",
      "    1.74144279e-05   2.32903276e-05   2.14956282e-03   5.58195961e-06\n",
      "    1.18450125e-05   7.63727876e-04   1.21321091e-05   6.26376823e-06\n",
      "    4.33326278e-07   1.90374212e-05   1.18659073e-05   3.18640523e-05\n",
      "    2.78781426e-05   1.69692919e-06   4.87315447e-06   6.70814507e-06\n",
      "    5.03256102e-04   3.00257707e-05   1.60422362e-03   1.40009230e-04\n",
      "    2.49834324e-04   8.68881125e-06   3.40491806e-06   3.32988682e-04\n",
      "    9.47533692e-07   2.46885647e-05   1.63060875e-04   4.67851605e-05\n",
      "    1.15734490e-03   1.03178469e-03   1.18136286e-05   5.01294817e-05\n",
      "    4.10314788e-05   4.49584286e-06   1.80745576e-06   5.02788055e-07\n",
      "    1.08993241e-04   3.99121600e-05   9.48764864e-06   2.04888871e-03\n",
      "    7.50121253e-04   9.23402513e-06   5.64348593e-05   1.15558645e-03\n",
      "    5.18751549e-05   1.82322052e-03   2.63445509e-05   2.50745052e-05\n",
      "    7.65009318e-05   1.50963717e-06   1.31788920e-05   1.44195392e-05\n",
      "    1.17212017e-04   3.94340255e-04   1.31638553e-05   1.90002029e-05\n",
      "    5.20184003e-05   2.49425784e-06   2.35080894e-04   2.26119191e-05\n",
      "    3.94433329e-07   7.42210716e-07   2.23890347e-05   3.29549148e-05\n",
      "    1.55803207e-06   3.40586383e-04   2.81446497e-04   5.90996176e-04\n",
      "    1.01357409e-05   2.23999072e-04   2.88274059e-05   1.87388409e-07\n",
      "    2.17626603e-05   9.70918263e-05   3.80637503e-05   9.67224769e-04\n",
      "    2.15804452e-04   1.12395050e-04   5.48660296e-07   1.11348163e-06\n",
      "    4.79228474e-05   2.05811029e-05   5.74826627e-05   6.59027819e-06\n",
      "    9.19735794e-06   9.21684205e-06   1.22462961e-05   5.90730124e-05\n",
      "    1.58140356e-05   8.06159335e-07   7.37109658e-05   3.99782759e-04\n",
      "    3.79524354e-05   6.58317413e-06   5.43020491e-04   1.12789548e-05\n",
      "    2.94373574e-04   2.75759874e-07   2.66642965e-05   3.36242181e-07\n",
      "    1.54713007e-06   6.44650217e-03   4.89559025e-05   1.89888815e-05\n",
      "    1.01642627e-06   1.29793796e-06   6.61639342e-06   3.60360951e-04\n",
      "    1.61903285e-04   3.87104141e-04   6.44550255e-06   1.26780476e-03\n",
      "    1.94181339e-03   3.22400563e-04   2.07633934e-06   4.74859044e-05\n",
      "    4.65755911e-05   6.55179247e-05   1.93232063e-05   5.56548969e-07\n",
      "    4.61892167e-04   1.02878475e-05   7.29292242e-06   2.85013957e-04\n",
      "    2.56693549e-03   1.91073232e-05   2.16266271e-05   1.06677919e-06\n",
      "    7.30487518e-04   2.33651444e-04   1.82407617e-04   1.02505255e-05\n",
      "    1.56056085e-05   3.76065736e-06   8.57333816e-06   7.19078962e-05\n",
      "    2.21570176e-07   5.59833970e-05   3.15460761e-06   6.67309941e-05\n",
      "    4.07998159e-05   1.52172634e-05   2.02374882e-03   1.67438691e-03\n",
      "    4.69297192e-05   3.20837376e-06   2.81523971e-04   4.98750538e-04\n",
      "    7.66618268e-06   3.52361667e-07   4.97588946e-04   4.82414237e-07\n",
      "    1.82304109e-06   2.04776821e-04   8.90861429e-06   3.28187161e-04\n",
      "    6.44094325e-05   4.78220498e-03   8.63315836e-06   1.18109419e-04\n",
      "    4.55879417e-05   1.98418093e-05   1.94728673e-05   6.31532794e-06\n",
      "    3.56630972e-06   1.73331748e-04   1.01291216e-05   1.18173973e-03\n",
      "    1.82827076e-04   9.12446794e-08   6.01470765e-06   1.56775393e-04\n",
      "    2.00315509e-02   7.09494316e-06   9.47557637e-05   3.00294807e-04\n",
      "    4.69120641e-06   3.22764768e-04   2.56640760e-06   1.30284452e-05\n",
      "    9.45035708e-07   2.69361117e-05   1.63749355e-05   2.96596508e-03\n",
      "    1.34106799e-07   1.39522501e-06   4.95668610e-05   1.28910106e-05\n",
      "    1.66854457e-04   5.78745585e-06   1.58526842e-02   6.65723128e-05\n",
      "    2.11858096e-05   1.94716431e-05   1.35340488e-05   6.55299175e-07\n",
      "    8.96945153e-07   6.52383489e-04   3.81667688e-02   1.79336951e-06\n",
      "    3.97772237e-05   2.51914986e-04   3.31920572e-04   2.17263412e-04\n",
      "    2.70717894e-03   3.25069304e-05   1.41787204e-05   1.86486359e-04\n",
      "    1.03349470e-04   1.55274165e-07   3.41348234e-04   5.81398172e-06\n",
      "    7.88772304e-05   1.59929878e-05   1.20932839e-07   3.64815409e-04\n",
      "    6.73600938e-04   3.04732112e-06   3.13164207e-07   4.48600731e-05\n",
      "    2.22080154e-03   1.98916655e-06   2.57489955e-06   1.66507467e-04\n",
      "    4.87195402e-02   3.38128962e-06   4.20556571e-05   1.44718410e-06\n",
      "    3.46089041e-06   3.68652195e-07   2.98969866e-07   5.99159603e-06\n",
      "    6.48757385e-04   3.84784762e-05   1.63536961e-03   2.67321127e-04\n",
      "    4.57605900e-04   3.09267016e-05   9.80619297e-05   2.44187308e-04\n",
      "    1.04484534e-05   6.75145031e-07   5.22967980e-07   5.48288750e-04\n",
      "    9.44186701e-04   3.98724078e-05   7.54655991e-03   2.05007691e-05\n",
      "    3.15839856e-07   6.37991680e-03   6.00496242e-05   1.42699610e-05\n",
      "    1.65844394e-03   3.14548117e-04   9.20867478e-07   2.24216655e-02\n",
      "    3.04062851e-05   5.79555308e-05   7.47005288e-07   3.08863946e-06\n",
      "    1.54551162e-04   5.89543524e-05   9.09083756e-05   6.98168704e-04\n",
      "    1.17410716e-04   1.43383722e-05   3.61334314e-05   3.83525776e-06\n",
      "    8.26306568e-05   1.01531608e-04   1.82890464e-04   1.10076275e-03\n",
      "    2.57829088e-04   1.75097259e-04   2.94450474e-05   1.16472745e-06\n",
      "    7.69485814e-06   2.01491453e-03   8.18383051e-05   4.28889552e-06\n",
      "    3.37859528e-04   2.09294762e-06   4.42416822e-05   1.04277431e-04\n",
      "    1.26239262e-03   4.45103906e-05   2.07125158e-05   1.60762356e-04\n",
      "    3.67239481e-05   1.17521167e-05   1.24123544e-04   1.01269979e-03\n",
      "    9.35167100e-06   2.51687918e-04   7.80014489e-06   1.52964669e-04\n",
      "    3.17870959e-04   4.31046850e-04   1.11734262e-05   4.60742103e-06\n",
      "    1.17768621e-04   4.17987940e-05   6.14371791e-04   4.17888486e-06\n",
      "    2.73777664e-06   5.52694132e-07   6.95820607e-04   4.19234508e-04\n",
      "    8.92297539e-04   1.34145821e-05   8.34535313e-05   7.54450855e-04\n",
      "    8.01927126e-06   3.39743710e-05   1.33646041e-04   5.89070032e-06\n",
      "    7.24638667e-05   3.09851835e-04   8.47835443e-04   7.20991738e-06\n",
      "    4.84307893e-05   8.47494666e-05   9.14722696e-05   2.66722818e-05\n",
      "    6.70524150e-06   4.10318680e-05   6.29634542e-07   2.43449722e-06\n",
      "    2.52681086e-03   7.56911913e-06   3.18457678e-05   2.18310174e-06\n",
      "    8.28514865e-04   4.38515970e-04   1.60467498e-05   3.27934715e-04\n",
      "    8.68082789e-05   4.54328489e-04   2.31106227e-07   1.38925625e-05\n",
      "    2.89665732e-05   3.95983875e-07   3.32081388e-03   6.08790606e-06\n",
      "    8.84320286e-07   2.76728667e-08   1.51848180e-05   1.31058274e-04\n",
      "    2.62603699e-05   2.53682117e-07   4.98223781e-05   1.12555361e-04\n",
      "    4.40663658e-04   2.34683057e-06   1.89475832e-05   3.21070765e-05\n",
      "    1.64198009e-05   1.43300952e-06   2.35031121e-06   1.24476792e-05\n",
      "    2.04988519e-05   6.13867160e-05   1.60278156e-04   8.43219368e-07\n",
      "    1.87176323e-04   3.53531823e-06   1.35696409e-05   6.00795465e-06\n",
      "    8.71532713e-04   1.70387176e-03   3.91436974e-04   6.86551539e-06\n",
      "    2.64194023e-05   7.42134289e-04   1.04121328e-03   1.64410484e-03\n",
      "    1.80361079e-04   1.61963044e-06   2.65230556e-05   6.22316124e-03\n",
      "    1.00610703e-06   4.21661796e-04   4.40677513e-06   6.75660034e-04\n",
      "    8.00105136e-06   8.59170556e-02   1.21063586e-05   3.27904354e-06\n",
      "    9.56198278e-07   1.16295769e-05   2.18856349e-06   2.89433365e-06\n",
      "    6.30755769e-03   1.32446553e-06   7.58119813e-06   1.57991721e-07\n",
      "    1.80068801e-05   1.08364431e-04   8.65844186e-07   3.08992821e-05\n",
      "    8.19966272e-02   1.53903477e-06   7.59598333e-06   4.04955863e-05\n",
      "    8.50591368e-06   1.09796028e-05   4.26137303e-05   2.35598814e-03\n",
      "    3.53777054e-04   1.71291795e-05   1.72233849e-05   3.21714106e-05\n",
      "    4.89291278e-06   6.72160313e-05   7.74018918e-06   4.88503429e-05\n",
      "    4.80718270e-04   2.57101674e-05   8.75337748e-04   8.85712041e-07\n",
      "    1.08283557e-01   5.08086011e-03   7.05000653e-04   1.90468843e-03\n",
      "    8.05637865e-06   8.74249905e-04   2.71323486e-04   1.99529401e-04\n",
      "    6.81850943e-04   2.20038477e-04   2.51465758e-06   2.29846686e-04\n",
      "    9.27033682e-07   2.48392491e-04   1.63220370e-03   1.86166144e-05\n",
      "    2.22918374e-07   5.05528851e-06   6.23891651e-07   2.12839254e-07\n",
      "    8.13015777e-06   1.34988713e-05   2.19021502e-04   1.50832839e-05\n",
      "    5.79023836e-05   4.84992226e-04   1.02009319e-04   3.21259769e-03\n",
      "    1.36797753e-05   2.30699079e-03   3.54287040e-05   1.12454451e-04\n",
      "    2.82255613e-04   2.83478672e-04   5.08735457e-06   5.64284564e-05\n",
      "    6.56584016e-05   7.04799959e-06   6.40638027e-05   5.72664285e-05\n",
      "    1.80754450e-05   1.93245323e-05   1.98646812e-05   1.36942117e-05\n",
      "    4.25506674e-04   2.07368255e-04   1.91849982e-03   7.38289236e-05\n",
      "    1.07621254e-05   5.09517631e-05   4.99929342e-07   1.42581528e-04\n",
      "    9.65843035e-04   2.43777886e-05   9.39811216e-05   4.35717986e-04\n",
      "    3.88566579e-04   1.33852242e-04   2.58592842e-03   3.02399458e-05\n",
      "    2.13378051e-04   7.94869193e-05   1.06858410e-04   3.61013663e-05\n",
      "    4.36198374e-04   2.55666208e-03   3.00260272e-05   2.12888790e-05\n",
      "    5.40368492e-05   3.41404550e-04   2.50201760e-04   1.52951106e-04\n",
      "    3.21127125e-03   4.35590418e-03   5.80530514e-06   1.66351281e-04\n",
      "    1.76041260e-06   7.63156223e-08   2.05192600e-06   1.08180473e-06\n",
      "    6.98311794e-07   8.62488264e-07   3.50695655e-06   9.42357801e-08\n",
      "    2.03454306e-06   9.68222707e-07   3.31439587e-05   3.92995071e-06\n",
      "    1.46992204e-06   1.14720592e-06   1.70402363e-05   2.50564946e-04\n",
      "    5.19615598e-04   2.75886396e-05   1.72905871e-04   2.07295579e-06\n",
      "    3.52240863e-06   2.03693867e-06   2.11211955e-05   5.51014557e-04\n",
      "    7.53608474e-05   5.91111711e-05   9.77353920e-05   3.64336967e-02]]\n"
     ]
    },
    {
     "ename": "KeyError",
     "evalue": "435",
     "output_type": "error",
     "traceback": [
      "\u001b[0;31m---------------------------------------------------------------------------\u001b[0m",
      "\u001b[0;31mKeyError\u001b[0m                                  Traceback (most recent call last)",
      "\u001b[0;32m<ipython-input-27-33749c7652f9>\u001b[0m in \u001b[0;36m<module>\u001b[0;34m()\u001b[0m\n\u001b[1;32m      4\u001b[0m \u001b[0;32mprint\u001b[0m \u001b[0;34m(\u001b[0m\u001b[0mmodel\u001b[0m\u001b[0;34m.\u001b[0m\u001b[0mpredict\u001b[0m\u001b[0;34m(\u001b[0m\u001b[0mX\u001b[0m\u001b[0;34m[\u001b[0m\u001b[0;36m50\u001b[0m\u001b[0;34m,\u001b[0m\u001b[0;34m:\u001b[0m\u001b[0;34m,\u001b[0m\u001b[0;34m:\u001b[0m\u001b[0;34m]\u001b[0m\u001b[0;34m.\u001b[0m\u001b[0mreshape\u001b[0m\u001b[0;34m(\u001b[0m\u001b[0;36m1\u001b[0m\u001b[0;34m,\u001b[0m\u001b[0;36m3\u001b[0m\u001b[0;34m,\u001b[0m\u001b[0;36m224\u001b[0m\u001b[0;34m,\u001b[0m\u001b[0;36m224\u001b[0m\u001b[0;34m)\u001b[0m\u001b[0;34m)\u001b[0m\u001b[0;34m)\u001b[0m\u001b[0;34m\u001b[0m\u001b[0m\n\u001b[1;32m      5\u001b[0m \u001b[0mcat_prediction\u001b[0m \u001b[0;34m=\u001b[0m \u001b[0mmodel\u001b[0m\u001b[0;34m.\u001b[0m\u001b[0mpredict\u001b[0m\u001b[0;34m(\u001b[0m\u001b[0mX\u001b[0m\u001b[0;34m[\u001b[0m\u001b[0;36m50\u001b[0m\u001b[0;34m,\u001b[0m\u001b[0;34m:\u001b[0m\u001b[0;34m,\u001b[0m\u001b[0;34m:\u001b[0m\u001b[0;34m]\u001b[0m\u001b[0;34m.\u001b[0m\u001b[0mreshape\u001b[0m\u001b[0;34m(\u001b[0m\u001b[0;36m1\u001b[0m\u001b[0;34m,\u001b[0m\u001b[0;36m3\u001b[0m\u001b[0;34m,\u001b[0m\u001b[0;36m224\u001b[0m\u001b[0;34m,\u001b[0m\u001b[0;36m224\u001b[0m\u001b[0;34m)\u001b[0m\u001b[0;34m)\u001b[0m\u001b[0;34m.\u001b[0m\u001b[0margmax\u001b[0m\u001b[0;34m(\u001b[0m\u001b[0maxis\u001b[0m \u001b[0;34m=\u001b[0m \u001b[0;36m1\u001b[0m\u001b[0;34m)\u001b[0m\u001b[0;34m[\u001b[0m\u001b[0;36m0\u001b[0m\u001b[0;34m]\u001b[0m\u001b[0;34m\u001b[0m\u001b[0m\n\u001b[0;32m----> 6\u001b[0;31m \u001b[0;32mprint\u001b[0m \u001b[0;34m(\u001b[0m \u001b[0mcat_prediction\u001b[0m\u001b[0;34m,\u001b[0m \u001b[0mcat_dog_class\u001b[0m\u001b[0;34m[\u001b[0m\u001b[0mcat_prediction\u001b[0m\u001b[0;34m]\u001b[0m \u001b[0;34m)\u001b[0m\u001b[0;34m\u001b[0m\u001b[0m\n\u001b[0m\u001b[1;32m      7\u001b[0m \u001b[0;34m\u001b[0m\u001b[0m\n\u001b[1;32m      8\u001b[0m \u001b[0;32mprint\u001b[0m \u001b[0;34m(\u001b[0m\u001b[0;34m\"Predict a dog: \"\u001b[0m\u001b[0;34m)\u001b[0m\u001b[0;34m\u001b[0m\u001b[0m\n",
      "\u001b[0;31mKeyError\u001b[0m: 435"
     ]
    }
   ],
   "source": [
    "cat_dog_class = {0: 'cat', 1: 'dog'}\n",
    "\n",
    "print (\"Predict a cat: \")\n",
    "print (model.predict(X[50,:,:].reshape(1,3,224,224)))\n",
    "cat_prediction = model.predict(X[50,:,:].reshape(1,3,224,224)).argmax(axis = 1)[0]\n",
    "print ( cat_prediction, cat_dog_class[cat_prediction] )\n",
    "\n",
    "print (\"Predict a dog: \")\n",
    "dog_prediction = model.predict(X[1701,:,:].reshape(1,3,224,224)).argmax(axis = 1)[0]\n",
    "print (dog_prediction, cat_dog_class[dog_prediction])"
   ]
  },
  {
   "cell_type": "markdown",
   "metadata": {},
   "source": [
    "# Create validation set"
   ]
  },
  {
   "cell_type": "code",
   "execution_count": 225,
   "metadata": {},
   "outputs": [
    {
     "name": "stdout",
     "output_type": "stream",
     "text": [
      "Loading preprocessed images....\n",
      "Loading done.\n"
     ]
    }
   ],
   "source": [
    "limit_valid = 1000\n",
    "backend.set_image_dim_ordering('th')\n",
    "IMG_SIZE = 224\n",
    "\n",
    "if os.path.exists('preprocessed_validation_cats.pckl') and True:\n",
    "\n",
    "    print (\"Loading preprocessed images....\")\n",
    "    preprocessed_valid_cats = restore('preprocessed_validation_cats.pckl')\n",
    "    preprocessed_valid_dogs = restore('preprocessed_validation_dogs.pckl')\n",
    "    limit_valid = len(preprocessed_valid_cats)\n",
    "    \n",
    "    print (\"Loading done.\")\n",
    "else:\n",
    "    print (\"Preprocessing....\")\n",
    "    # cats : 0\n",
    "    print (\"Preprocessing cats images:\")\n",
    "    preprocessed_valid_cats = preprocess_imgs('valid/cats', IMG_SIZE, limit = limit_valid)\n",
    "    store(preprocessed_valid_cats, 'preprocessed_validation_cats.pckl')\n",
    "\n",
    "    # dogs : 1\n",
    "    print (\"Preprocessing dogs images:\")\n",
    "    preprocessed_valid_dogs = preprocess_imgs('valid/dogs', IMG_SIZE, limit = limit_valid)\n",
    "    store(preprocessed_valid_dogs, 'preprocessed_validation_dogs.pckl')\n",
    "    limit_valid = len(preprocessed_valid_dogs)\n",
    "    "
   ]
  },
  {
   "cell_type": "code",
   "execution_count": 226,
   "metadata": {},
   "outputs": [
    {
     "name": "stdout",
     "output_type": "stream",
     "text": [
      "(2, 11500, 1)\n",
      "(2, 11500, 1)\n",
      "('Ycats', array([[ 1.],\n",
      "       [ 0.]]))\n",
      "('Ydogs', array([[ 0.],\n",
      "       [ 1.]]))\n",
      "(23000, 2)\n",
      "('Y = ', array([ 1.,  0.]))\n"
     ]
    }
   ],
   "source": [
    "# labelling the data\n",
    "# cats = [1 0] and dogs = [0 1]\n",
    "zeros_valid = np.zeros((limit, 1))\n",
    "ones_valid  = np.ones((limit, 1))\n",
    "Ycats_valid = np.array((ones_valid, zeros_valid))\n",
    "print (Ycats_valid.shape)\n",
    "Ydogs_valid = np.array((zeros_valid, ones_valid))\n",
    "print (Ydogs_valid.shape)\n",
    "\n",
    "print (\"Ycats\", Ycats_valid[:,0])\n",
    "print (\"Ydogs\", Ydogs_valid[:,0])\n",
    "\n",
    "Y_valid = np.concatenate((Ycats_valid, Ydogs_valid), axis=1)\n",
    "Y_valid = np.swapaxes(Y_valid, 0, 1).squeeze()\n",
    "print (Y_valid.shape)\n",
    "\n",
    "\n",
    "print (\"Y = \", Y_valid[0,:])"
   ]
  },
  {
   "cell_type": "code",
   "execution_count": 227,
   "metadata": {},
   "outputs": [
    {
     "name": "stdout",
     "output_type": "stream",
     "text": [
      "(2000, 3, 224, 224)\n",
      "(23000, 2)\n",
      "(2000, 3, 224, 224)\n",
      "(2000, 2)\n"
     ]
    }
   ],
   "source": [
    "\n",
    "Xcats_valid = np.array(preprocessed_valid_cats)\n",
    "Xdogs_valid = np.array(preprocessed_valid_dogs)\n",
    "\n",
    "X_valid = np.concatenate((Xcats_valid, Xdogs_valid))\n",
    "\n",
    "X_valid = np.swapaxes(X_valid, 1, 3)\n",
    "\n",
    "print X_valid.shape\n",
    "print (Y).shape\n",
    "\n",
    "Xtrain = X[0:2000,:,:,:]\n",
    "Ytrain = Y[0:2000,:]\n",
    "\n",
    "print Xtrain.shape\n",
    "print Ytrain.shape"
   ]
  },
  {
   "cell_type": "code",
   "execution_count": null,
   "metadata": {},
   "outputs": [],
   "source": [
    "validation = (X_valid, Y_valid)\n",
    "\n",
    "print len(Xtrain)\n",
    "print len(Ytrain)\n",
    "model.compile(\n",
    "        # loss='binary_crossentropy',\n",
    "       #optimizer=SGD(lr=10.0),\n",
    "          #optimizer=RMSprop(),\n",
    "       optimizer=Adam(lr=0.0001),\n",
    "          loss='categorical_crossentropy',\n",
    "          metrics=['accuracy'])\n",
    "model.fit(Xtrain,Ytrain, epochs=1, batch_size=50, validation_data = validation) "
   ]
  },
  {
   "cell_type": "code",
   "execution_count": null,
   "metadata": {},
   "outputs": [],
   "source": [
    "def generate_train_arrays():\n",
    "    for i in range(len(X)):\n",
    "        yield (X[50*i:50*i+50,:,:,:],Y[50*i:50*i+50,:])\n",
    "\n",
    "def generate_valid_arrays():\n",
    "    for i in range(len(X_valid)):\n",
    "        yield (X_valid[50*i:50*i+50,:,:,:],Y_valid[50*i:50*i+50,:]) \n",
    "\n",
    "model.load_weights(\"model_generator.h5\")\n",
    "model.fit_generator(generate_train_arrays(), steps_per_epoch=40, epochs=1, validation_steps = 40, validation_data = generate_valid_arrays())\n",
    "model.save_weights(\"model_generator.h5\")"
   ]
  },
  {
   "cell_type": "code",
   "execution_count": null,
   "metadata": {},
   "outputs": [],
   "source": [
    "\n",
    "if os.path.exists('conv_valid_output.pckl') :\n",
    "    conv_valid_output = restore('conv_valid_output.pckl')\n",
    "else:\n",
    "    conv_valid_output = convolutional_model.predict(X)\n",
    "    store(conv_valid_output, 'conv_valid_output.pckl')\n",
    "print (conv_valid_output.shape)"
   ]
  },
  {
   "cell_type": "code",
   "execution_count": null,
   "metadata": {},
   "outputs": [],
   "source": [
    "def generate_train_arrays():\n",
    "    for i in range(len(X)):\n",
    "        yield (X[50*i:50*i+50,:,:,:],Y[50*i:50*i+50,:])\n",
    "\n",
    "def generate_valid_arrays():\n",
    "    for i in range(len(X_valid)):\n",
    "        yield (X_valid[50*i:50*i+50,:,:,:],Y_valid[50*i:50*i+50,:]) \n",
    "\n",
    "model.load_weights(\"model_generator.h5\")\n",
    "model.fit_generator(generate_train_arrays(), steps_per_epoch=40, epochs=1, validation_steps = 40, validation_data = generate_valid_arrays())\n",
    "model.save_weights(\"model_generator.h5\")"
   ]
  },
  {
   "cell_type": "code",
   "execution_count": null,
   "metadata": {
    "collapsed": true
   },
   "outputs": [],
   "source": []
  }
 ],
 "metadata": {
  "kernelspec": {
   "display_name": "Python 2",
   "language": "python",
   "name": "python2"
  },
  "language_info": {
   "codemirror_mode": {
    "name": "ipython",
    "version": 2
   },
   "file_extension": ".py",
   "mimetype": "text/x-python",
   "name": "python",
   "nbconvert_exporter": "python",
   "pygments_lexer": "ipython2",
   "version": "2.7.13"
  }
 },
 "nbformat": 4,
 "nbformat_minor": 2
}
